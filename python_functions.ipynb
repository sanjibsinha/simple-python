{
  "nbformat": 4,
  "nbformat_minor": 0,
  "metadata": {
    "colab": {
      "provenance": [],
      "authorship_tag": "ABX9TyPinfNHqqUGlPuZ/B/gnSih",
      "include_colab_link": true
    },
    "kernelspec": {
      "name": "python3",
      "display_name": "Python 3"
    },
    "language_info": {
      "name": "python"
    }
  },
  "cells": [
    {
      "cell_type": "markdown",
      "metadata": {
        "id": "view-in-github",
        "colab_type": "text"
      },
      "source": [
        "<a href=\"https://colab.research.google.com/github/sanjibsinha/simple-python/blob/functions/python_functions.ipynb\" target=\"_parent\"><img src=\"https://colab.research.google.com/assets/colab-badge.svg\" alt=\"Open In Colab\"/></a>"
      ]
    },
    {
      "cell_type": "code",
      "execution_count": 5,
      "metadata": {
        "colab": {
          "base_uri": "https://localhost:8080/"
        },
        "id": "Yf_zSEVcy3zK",
        "outputId": "495c9d89-ca43-4e60-86dc-bad24fd7d242"
      },
      "outputs": [
        {
          "output_type": "stream",
          "name": "stdout",
          "text": [
            "Addition of 20 and 30 is: 50\n",
            "Subtract 20 from 30: 10\n",
            "Multiplication of 20 and 30 is: 600\n",
            "Divide 20 by 10: 2.0\n"
          ]
        }
      ],
      "source": [
        "def add(x, y):\n",
        "    return x + y\n",
        "\n",
        "def subtract(x, y):\n",
        "    return x - y\n",
        "\n",
        "def multiply(x, y):\n",
        "    return x * y\n",
        "\n",
        "def divide(x, y):\n",
        "    return x / y\n",
        "\n",
        "##Functions are first-class objects, can be passed around as arguments e.g. int/string/float etc.\n",
        "\n",
        "def calculate(calc_function, x, y):\n",
        "    return calc_function(x, y)\n",
        "\n",
        "addition = calculate(add, 20, 30)\n",
        "print(f'Addition of 20 and 30 is: {addition}')\n",
        "\n",
        "subtraction = calculate(subtract, 30, 20)\n",
        "print(f'Subtract 20 from 30: {subtraction}')\n",
        "\n",
        "multiplication = calculate(multiply, 20, 30)\n",
        "print(f'Multiplication of 20 and 30 is: {multiplication}')\n",
        "\n",
        "division = calculate(divide, 20, 10)\n",
        "print(f'Divide 20 by 10: {division}')\n"
      ]
    }
  ]
}