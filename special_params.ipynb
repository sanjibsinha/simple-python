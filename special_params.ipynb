{
  "nbformat": 4,
  "nbformat_minor": 0,
  "metadata": {
    "colab": {
      "provenance": [],
      "collapsed_sections": [],
      "authorship_tag": "ABX9TyP0IIxL0+LzEMo+EbHUfjlF",
      "include_colab_link": true
    },
    "kernelspec": {
      "name": "python3",
      "display_name": "Python 3"
    },
    "language_info": {
      "name": "python"
    }
  },
  "cells": [
    {
      "cell_type": "markdown",
      "metadata": {
        "id": "view-in-github",
        "colab_type": "text"
      },
      "source": [
        "<a href=\"https://colab.research.google.com/github/sanjibsinha/simple-python/blob/functions/special_params.ipynb\" target=\"_parent\"><img src=\"https://colab.research.google.com/assets/colab-badge.svg\" alt=\"Open In Colab\"/></a>"
      ]
    },
    {
      "cell_type": "code",
      "execution_count": 2,
      "metadata": {
        "colab": {
          "base_uri": "https://localhost:8080/"
        },
        "id": "tz2YOTE2-l4u",
        "outputId": "21b746d7-fdb5-45ba-e2ba-2bc685de259b"
      },
      "outputs": [
        {
          "output_type": "stream",
          "name": "stdout",
          "text": [
            "23\n"
          ]
        }
      ],
      "source": [
        "def get_positional_parameters(param):\n",
        "  print(param)\n",
        "\n",
        "get_positional_parameters(23)"
      ]
    },
    {
      "cell_type": "code",
      "source": [
        "def get_standard_param(param):\n",
        "  print(param)\n",
        "\n",
        "get_standard_param(23)\n",
        "\n",
        "get_standard_param(param=32)"
      ],
      "metadata": {
        "colab": {
          "base_uri": "https://localhost:8080/"
        },
        "id": "DYBe39qZ_Rzn",
        "outputId": "cd1b9173-f57f-4260-e094-004a9d4322f2"
      },
      "execution_count": 5,
      "outputs": [
        {
          "output_type": "stream",
          "name": "stdout",
          "text": [
            "23\n",
            "32\n"
          ]
        }
      ]
    },
    {
      "cell_type": "code",
      "source": [],
      "metadata": {
        "id": "9zxBzm75_oUq"
      },
      "execution_count": null,
      "outputs": []
    }
  ]
}