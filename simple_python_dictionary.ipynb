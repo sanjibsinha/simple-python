{
  "nbformat": 4,
  "nbformat_minor": 0,
  "metadata": {
    "colab": {
      "name": "simple-python-dictionary.ipynb",
      "provenance": [],
      "collapsed_sections": [],
      "authorship_tag": "ABX9TyNETBx87unr1QZ5oe4gZuSw",
      "include_colab_link": true
    },
    "kernelspec": {
      "name": "python3",
      "display_name": "Python 3"
    },
    "language_info": {
      "name": "python"
    }
  },
  "cells": [
    {
      "cell_type": "markdown",
      "metadata": {
        "id": "view-in-github",
        "colab_type": "text"
      },
      "source": [
        "<a href=\"https://colab.research.google.com/github/sanjibsinha/simple-python/blob/dictionaries/simple_python_dictionary.ipynb\" target=\"_parent\"><img src=\"https://colab.research.google.com/assets/colab-badge.svg\" alt=\"Open In Colab\"/></a>"
      ]
    },
    {
      "cell_type": "code",
      "execution_count": 1,
      "metadata": {
        "colab": {
          "base_uri": "https://localhost:8080/"
        },
        "id": "jRVDHcmLDxJ_",
        "outputId": "af919c4f-9c32-4f2c-ee94-760f8bc0c4b5"
      },
      "outputs": [
        {
          "output_type": "stream",
          "name": "stdout",
          "text": [
            "{'Name': 'John Smith', 'Age': 32, 'Sex': 'male'}\n"
          ]
        }
      ],
      "source": [
        "john_smith = {'Name':'John Smith', 'Age': 32, 'Sex': 'male'}\n",
        "print(john_smith)"
      ]
    },
    {
      "cell_type": "code",
      "source": [
        "json_web = {'Name':'Jason Web', 'Age': 35, 'Sex': 'male'}\n",
        "print(json_web)"
      ],
      "metadata": {
        "colab": {
          "base_uri": "https://localhost:8080/"
        },
        "id": "0OIw6FJwEw9q",
        "outputId": "6bb7f932-2f74-49e6-903f-b2b39b0958ae"
      },
      "execution_count": 7,
      "outputs": [
        {
          "output_type": "stream",
          "name": "stdout",
          "text": [
            "{'Name': 'Jason Web', 'Age': 35, 'Sex': 'male'}\n"
          ]
        }
      ]
    },
    {
      "cell_type": "code",
      "source": [
        "print(john_smith['Age'])"
      ],
      "metadata": {
        "colab": {
          "base_uri": "https://localhost:8080/"
        },
        "id": "VMfdE1HTFRQI",
        "outputId": "7f55c955-4924-4ade-fc85-55457f6f00a3"
      },
      "execution_count": 4,
      "outputs": [
        {
          "output_type": "stream",
          "name": "stdout",
          "text": [
            "35\n"
          ]
        }
      ]
    },
    {
      "cell_type": "code",
      "source": [
        "print (\"{:<10} {:<10} {:<10}\".format('Name', 'Age', 'Sex'))"
      ],
      "metadata": {
        "colab": {
          "base_uri": "https://localhost:8080/"
        },
        "id": "1jQ7xEbpF1Wo",
        "outputId": "ad639bc7-7b5d-4627-acd2-c9a179379381"
      },
      "execution_count": 11,
      "outputs": [
        {
          "output_type": "stream",
          "name": "stdout",
          "text": [
            "Name       Age        Sex       \n"
          ]
        }
      ]
    }
  ]
}