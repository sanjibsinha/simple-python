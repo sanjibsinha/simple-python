{
  "nbformat": 4,
  "nbformat_minor": 0,
  "metadata": {
    "colab": {
      "name": "simple-python-dictionary.ipynb",
      "provenance": [],
      "collapsed_sections": [],
      "authorship_tag": "ABX9TyMupK2qTCzquMCn2ZPhj7u5",
      "include_colab_link": true
    },
    "kernelspec": {
      "name": "python3",
      "display_name": "Python 3"
    },
    "language_info": {
      "name": "python"
    }
  },
  "cells": [
    {
      "cell_type": "markdown",
      "metadata": {
        "id": "view-in-github",
        "colab_type": "text"
      },
      "source": [
        "<a href=\"https://colab.research.google.com/github/sanjibsinha/simple-python/blob/dictionaries/simple_python_dictionary.ipynb\" target=\"_parent\"><img src=\"https://colab.research.google.com/assets/colab-badge.svg\" alt=\"Open In Colab\"/></a>"
      ]
    },
    {
      "cell_type": "code",
      "execution_count": 1,
      "metadata": {
        "colab": {
          "base_uri": "https://localhost:8080/"
        },
        "id": "jRVDHcmLDxJ_",
        "outputId": "af919c4f-9c32-4f2c-ee94-760f8bc0c4b5"
      },
      "outputs": [
        {
          "output_type": "stream",
          "name": "stdout",
          "text": [
            "{'Name': 'John Smith', 'Age': 32, 'Sex': 'male'}\n"
          ]
        }
      ],
      "source": [
        "john_smith = {'Name':'John Smith', 'Age': 32, 'Sex': 'male'}\n",
        "print(john_smith)"
      ]
    },
    {
      "cell_type": "code",
      "source": [
        "json_web = {'Name':'Jason Web', 'Age': 35, 'Sex': 'male'}\n",
        "print(json_web)"
      ],
      "metadata": {
        "colab": {
          "base_uri": "https://localhost:8080/"
        },
        "id": "0OIw6FJwEw9q",
        "outputId": "6bb7f932-2f74-49e6-903f-b2b39b0958ae"
      },
      "execution_count": 7,
      "outputs": [
        {
          "output_type": "stream",
          "name": "stdout",
          "text": [
            "{'Name': 'Jason Web', 'Age': 35, 'Sex': 'male'}\n"
          ]
        }
      ]
    },
    {
      "cell_type": "code",
      "source": [
        "print(john_smith['Age'])"
      ],
      "metadata": {
        "colab": {
          "base_uri": "https://localhost:8080/"
        },
        "id": "VMfdE1HTFRQI",
        "outputId": "7f55c955-4924-4ade-fc85-55457f6f00a3"
      },
      "execution_count": 4,
      "outputs": [
        {
          "output_type": "stream",
          "name": "stdout",
          "text": [
            "35\n"
          ]
        }
      ]
    },
    {
      "cell_type": "code",
      "source": [
        "dict ={}\n",
        " \n",
        "# Insertng data into dictionary\n",
        "tabular_data = {1: [\"John Smith\", 32, 'male'],\n",
        "     2: [\"Json Web\", 35, 'male'],\n",
        "     3: [\"Elena Ferrante\", 67, 'male'],\n",
        "     }\n",
        " \n",
        "# printing the names of the columns.\n",
        "print (\"{:<10} {:<10} {:<10}\".format('Name', 'Age', 'Sex'))\n",
        " \n",
        "# printing each data item.\n",
        "for key, value in tabular_data.items():\n",
        "    name, age, course = value\n",
        "    print (\"{:<10} {:<10} {:<10}\".format(name, age, course))"
      ],
      "metadata": {
        "colab": {
          "base_uri": "https://localhost:8080/"
        },
        "id": "6ToQ4kMJHnCl",
        "outputId": "a68f0281-00b5-4fff-b460-61583ef6c0f1"
      },
      "execution_count": 16,
      "outputs": [
        {
          "output_type": "stream",
          "name": "stdout",
          "text": [
            "Name       Age        Sex       \n",
            "John Smith 32         male      \n",
            "Json Web   35         male      \n",
            "Elena Ferrante 67         male      \n"
          ]
        }
      ]
    }
  ]
}